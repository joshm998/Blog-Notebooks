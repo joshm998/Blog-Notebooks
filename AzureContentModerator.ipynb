{
  "nbformat": 4,
  "nbformat_minor": 0,
  "metadata": {
    "colab": {
      "name": "AzureContentModerator.ipynb",
      "provenance": [],
      "collapsed_sections": [],
      "toc_visible": true,
      "authorship_tag": "ABX9TyMa4hDSIIHEqGM6zHqBYOHw",
      "include_colab_link": true
    },
    "kernelspec": {
      "name": "python3",
      "display_name": "Python 3"
    }
  },
  "cells": [
    {
      "cell_type": "markdown",
      "metadata": {
        "id": "view-in-github",
        "colab_type": "text"
      },
      "source": [
        "<a href=\"https://colab.research.google.com/github/joshm998/Blog-Notebooks/blob/main/AzureContentModerator.ipynb\" target=\"_parent\"><img src=\"https://colab.research.google.com/assets/colab-badge.svg\" alt=\"Open In Colab\"/></a>"
      ]
    },
    {
      "cell_type": "markdown",
      "metadata": {
        "id": "zvb5Cp52dLHy"
      },
      "source": [
        "# **Using Azure Content Moderator on Text in Python**\n",
        "\n",
        "In this workbook we will be going over using the Azure Content Moderator Service in Python, you will need to have an Azure account to complete this workbook. Please read the related post for some more info [here](https://google.com)"
      ]
    },
    {
      "cell_type": "markdown",
      "metadata": {
        "id": "gkTBJxmYc4v3"
      },
      "source": [
        "**1. Import the Libraries Needed for Azure Content Moderator**\n",
        "\n",
        "Most of these libraries are already installed except for the `azure-cognitiveservices-vision-contentmoderator` we will install this with pip.\n"
      ]
    },
    {
      "cell_type": "code",
      "metadata": {
        "id": "16fiOq9Obd0w"
      },
      "source": [
        "import os.path\n",
        "from pprint import pprint\n",
        "import time\n",
        "from io import BytesIO\n",
        "from random import random\n",
        "import uuid\n",
        "\n",
        "%pip install azure-cognitiveservices-vision-contentmoderator\n",
        "\n",
        "from azure.cognitiveservices.vision.contentmoderator import ContentModeratorClient\n",
        "import azure.cognitiveservices.vision.contentmoderator.models\n",
        "from msrest.authentication import CognitiveServicesCredentials"
      ],
      "execution_count": null,
      "outputs": []
    },
    {
      "cell_type": "markdown",
      "metadata": {
        "id": "k_CyYyI2d3HS"
      },
      "source": [
        "**2. Set Your Endpoint and Subscription Key**\n",
        "\n",
        "You can get the endpoint and subscription key from the \"Keys and Endpoint\" tab on you Azure Content Moderator.\n"
      ]
    },
    {
      "cell_type": "code",
      "metadata": {
        "id": "_UfualFEc4GM"
      },
      "source": [
        "CONTENT_MODERATOR_ENDPOINT = \"CONTENT_MODERATOR_ENDPOINT\"\n",
        "CONTENT_MODERATOR_SUBSCRIPTION_KEY = \"CONTENT_MODERATOR_SUBSCRIPTION_KEY\""
      ],
      "execution_count": null,
      "outputs": []
    },
    {
      "cell_type": "markdown",
      "metadata": {
        "id": "RFlFpnUKibz3"
      },
      "source": [
        "**3. Create the Moderator Client**\n",
        "\n",
        "In this step we are creating the moderator client, we need to also give it the endpoint and credientials we set in an earlier step.\n"
      ]
    },
    {
      "cell_type": "code",
      "metadata": {
        "id": "Ike9BVqrgDD4"
      },
      "source": [
        "client = ContentModeratorClient(\n",
        "    endpoint=CONTENT_MODERATOR_ENDPOINT,\n",
        "    credentials=CognitiveServicesCredentials(CONTENT_MODERATOR_SUBSCRIPTION_KEY)\n",
        ")"
      ],
      "execution_count": null,
      "outputs": []
    },
    {
      "cell_type": "markdown",
      "metadata": {
        "id": "zcgJ_ygwicTl"
      },
      "source": [
        "**4. Create the Text Files Directory**\n"
      ]
    },
    {
      "cell_type": "code",
      "metadata": {
        "id": "HM-u_ZnniHmp"
      },
      "source": [
        "mkdir text_files"
      ],
      "execution_count": null,
      "outputs": []
    },
    {
      "cell_type": "markdown",
      "metadata": {
        "id": "EGUxOrhLicni"
      },
      "source": [
        "**5. Create the TXT file for the Content Moderator to read**\n"
      ]
    },
    {
      "cell_type": "code",
      "metadata": {
        "id": "aVpplcPFhq7K"
      },
      "source": [
        "file = open(\"./text_files/azure_cm_text.txt\", \"w\") \n",
        "file.write(\"Is this a grabage email abcdef@abcd.com, phone: 4255550111, IP: 255.255.255.255, 1234 Main Boulevard, Panapolis WA 96555. Crap is the profanity here. Is this information PII? phone 2065550111\") \n",
        "file.close() \n"
      ],
      "execution_count": null,
      "outputs": []
    },
    {
      "cell_type": "markdown",
      "metadata": {
        "id": "-bEcqb4TeSIk"
      },
      "source": [
        "**6. Run the text file through the content moderator**\n",
        "\n"
      ]
    },
    {
      "cell_type": "code",
      "metadata": {
        "id": "eX0r4z2YfbV6"
      },
      "source": [
        "with open(os.path.join('./text_files/', 'azure_cm_text.txt'), \"rb\") as text_fd:\n",
        "    screen = client.text_moderation.screen_text(\n",
        "        text_content_type=\"text/plain\",\n",
        "        text_content=text_fd,\n",
        "        language=\"eng\",\n",
        "        autocorrect=True,\n",
        "        pii=True\n",
        "    )\n",
        "    pprint(screen.as_dict())"
      ],
      "execution_count": null,
      "outputs": []
    },
    {
      "cell_type": "markdown",
      "metadata": {
        "id": "HFZtL3OmjSa2"
      },
      "source": [
        "If you have any issues with this workbook please feel free to raise issues via this link"
      ]
    }
  ]
}